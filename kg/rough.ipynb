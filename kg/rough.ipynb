{
 "cells": [
  {
   "cell_type": "code",
   "execution_count": 3,
   "metadata": {},
   "outputs": [
    {
     "name": "stdout",
     "output_type": "stream",
     "text": [
      "Requirement already satisfied: spacy in /home/shiridi/.local/lib/python3.8/site-packages (3.7.2)\n",
      "Requirement already satisfied: spacy-legacy<3.1.0,>=3.0.11 in /home/shiridi/.local/lib/python3.8/site-packages (from spacy) (3.0.12)\n",
      "Requirement already satisfied: spacy-loggers<2.0.0,>=1.0.0 in /home/shiridi/.local/lib/python3.8/site-packages (from spacy) (1.0.5)\n",
      "Requirement already satisfied: murmurhash<1.1.0,>=0.28.0 in /home/shiridi/.local/lib/python3.8/site-packages (from spacy) (1.0.10)\n",
      "Requirement already satisfied: cymem<2.1.0,>=2.0.2 in /home/shiridi/.local/lib/python3.8/site-packages (from spacy) (2.0.8)\n",
      "Requirement already satisfied: preshed<3.1.0,>=3.0.2 in /home/shiridi/.local/lib/python3.8/site-packages (from spacy) (3.0.9)\n",
      "Requirement already satisfied: thinc<8.3.0,>=8.1.8 in /home/shiridi/.local/lib/python3.8/site-packages (from spacy) (8.2.1)\n",
      "Requirement already satisfied: wasabi<1.2.0,>=0.9.1 in /home/shiridi/.local/lib/python3.8/site-packages (from spacy) (1.1.2)\n",
      "Requirement already satisfied: srsly<3.0.0,>=2.4.3 in /home/shiridi/.local/lib/python3.8/site-packages (from spacy) (2.4.8)\n",
      "Requirement already satisfied: catalogue<2.1.0,>=2.0.6 in /home/shiridi/.local/lib/python3.8/site-packages (from spacy) (2.0.10)\n",
      "Requirement already satisfied: weasel<0.4.0,>=0.1.0 in /home/shiridi/.local/lib/python3.8/site-packages (from spacy) (0.3.4)\n",
      "Requirement already satisfied: typer<0.10.0,>=0.3.0 in /home/shiridi/.local/lib/python3.8/site-packages (from spacy) (0.9.0)\n",
      "Requirement already satisfied: smart-open<7.0.0,>=5.2.1 in /home/shiridi/.local/lib/python3.8/site-packages (from spacy) (6.4.0)\n",
      "Requirement already satisfied: tqdm<5.0.0,>=4.38.0 in /home/shiridi/.local/lib/python3.8/site-packages (from spacy) (4.65.0)\n",
      "Requirement already satisfied: requests<3.0.0,>=2.13.0 in /home/shiridi/.local/lib/python3.8/site-packages (from spacy) (2.28.2)\n",
      "Requirement already satisfied: pydantic!=1.8,!=1.8.1,<3.0.0,>=1.7.4 in /home/shiridi/.local/lib/python3.8/site-packages (from spacy) (2.5.1)\n",
      "Requirement already satisfied: jinja2 in /home/shiridi/.local/lib/python3.8/site-packages (from spacy) (3.1.1)\n",
      "Requirement already satisfied: setuptools in /home/shiridi/.local/lib/python3.8/site-packages (from spacy) (67.8.0)\n",
      "Requirement already satisfied: packaging>=20.0 in /home/shiridi/.local/lib/python3.8/site-packages (from spacy) (21.3)\n",
      "Requirement already satisfied: langcodes<4.0.0,>=3.2.0 in /home/shiridi/.local/lib/python3.8/site-packages (from spacy) (3.3.0)\n",
      "Requirement already satisfied: numpy>=1.15.0; python_version < \"3.9\" in /home/shiridi/.local/lib/python3.8/site-packages (from spacy) (1.22.3)\n",
      "Requirement already satisfied: blis<0.8.0,>=0.7.8 in /home/shiridi/.local/lib/python3.8/site-packages (from thinc<8.3.0,>=8.1.8->spacy) (0.7.11)\n",
      "Requirement already satisfied: confection<1.0.0,>=0.0.1 in /home/shiridi/.local/lib/python3.8/site-packages (from thinc<8.3.0,>=8.1.8->spacy) (0.1.3)\n",
      "Requirement already satisfied: cloudpathlib<0.17.0,>=0.7.0 in /home/shiridi/.local/lib/python3.8/site-packages (from weasel<0.4.0,>=0.1.0->spacy) (0.16.0)\n",
      "Requirement already satisfied: click<9.0.0,>=7.1.1 in /home/shiridi/.local/lib/python3.8/site-packages (from typer<0.10.0,>=0.3.0->spacy) (8.1.2)\n",
      "Requirement already satisfied: typing-extensions>=3.7.4.3 in /home/shiridi/.local/lib/python3.8/site-packages (from typer<0.10.0,>=0.3.0->spacy) (4.8.0)\n",
      "Requirement already satisfied: charset-normalizer<4,>=2 in /home/shiridi/.local/lib/python3.8/site-packages (from requests<3.0.0,>=2.13.0->spacy) (3.3.2)\n",
      "Requirement already satisfied: idna<4,>=2.5 in /usr/lib/python3/dist-packages (from requests<3.0.0,>=2.13.0->spacy) (2.8)\n",
      "Requirement already satisfied: urllib3<1.27,>=1.21.1 in /home/shiridi/.local/lib/python3.8/site-packages (from requests<3.0.0,>=2.13.0->spacy) (1.26.18)\n",
      "Requirement already satisfied: certifi>=2017.4.17 in /home/shiridi/.local/lib/python3.8/site-packages (from requests<3.0.0,>=2.13.0->spacy) (2020.4.5.1)\n",
      "Requirement already satisfied: annotated-types>=0.4.0 in /home/shiridi/.local/lib/python3.8/site-packages (from pydantic!=1.8,!=1.8.1,<3.0.0,>=1.7.4->spacy) (0.6.0)\n",
      "Requirement already satisfied: pydantic-core==2.14.3 in /home/shiridi/.local/lib/python3.8/site-packages (from pydantic!=1.8,!=1.8.1,<3.0.0,>=1.7.4->spacy) (2.14.3)\n",
      "Requirement already satisfied: MarkupSafe>=2.0 in /home/shiridi/.local/lib/python3.8/site-packages (from jinja2->spacy) (2.1.1)\n",
      "Requirement already satisfied: pyparsing!=3.0.5,>=2.0.2 in /home/shiridi/.local/lib/python3.8/site-packages (from packaging>=20.0->spacy) (3.0.8)\n"
     ]
    }
   ],
   "source": [
    "!pip install spacy\n",
    "import spacy\n",
    "nlp = spacy.load(\"en_core_web_sm\")"
   ]
  },
  {
   "cell_type": "code",
   "execution_count": 4,
   "metadata": {},
   "outputs": [],
   "source": [
    "import spacy\n",
    "from spacy import displacy\n",
    "\n",
    "# Load spaCy model\n",
    "nlp = spacy.load(\"en_core_web_sm\")\n",
    "\n",
    "# Example question and answer\n",
    "question = \"Who is the president of the United States?\"\n",
    "answer = \"Joe Biden is the current president of the United States.\"\n",
    "\n",
    "# Process the question and answer with spaCy\n",
    "question_doc = nlp(question)\n",
    "answer_doc = nlp(answer)\n"
   ]
  },
  {
   "cell_type": "code",
   "execution_count": 5,
   "metadata": {},
   "outputs": [],
   "source": [
    "question_entities = [(ent.text, ent.label_) for ent in question_doc.ents]\n",
    "answer_entities = [(ent.text, ent.label_) for ent in answer_doc.ents]\n",
    "relationships = [(ent.root.head.text, ent.text) for ent in answer_doc.ents if ent.root.dep_ == \"nsubj\"]"
   ]
  },
  {
   "cell_type": "code",
   "execution_count": 35,
   "metadata": {},
   "outputs": [],
   "source": [
    "def create_knowledge_graph(text):\n",
    "    doc = nlp(text)\n",
    "    entities = [(ent.text, ent.label_) for ent in doc.ents]\n",
    "    relationships = [(token.head.text, token.text) for token in doc if token.dep_ == \"nsubj\"]\n",
    "    knowledge_graph = {\n",
    "        \"entities\": entities,\n",
    "        \"relationships\": relationships,\n",
    "    }\n",
    "    print(knowledge_graph,entities)\n",
    "    # displacy.serve(doc, style=\"dep\")\n",
    "\n",
    "    return knowledge_graph"
   ]
  },
  {
   "cell_type": "code",
   "execution_count": 48,
   "metadata": {},
   "outputs": [
    {
     "name": "stdout",
     "output_type": "stream",
     "text": [
      "{'entities': [('Shiridi', 'PERSON')], 'relationships': [('is', 'Name')]} [('Shiridi', 'PERSON')]\n",
      "{'entities': [('Shiridi', 'PERSON')], 'relationships': [('is', 'Name')]} [] [] ***********\n",
      "Answer: is\n"
     ]
    }
   ],
   "source": [
    "text = \"My Name is Shiridi \"\n",
    "\n",
    "# Create a knowledge graph\n",
    "knowledge_graph = create_knowledge_graph(text)\n",
    "\n",
    "\n",
    "def get_answer(question, knowledge_graph):\n",
    "    # Tokenize and process the question\n",
    "    question_doc = nlp(question.lower())  # Convert to lowercase for case-insensitive matching\n",
    "    \n",
    "    # Extract relevant entities from the question\n",
    "    question_entities = [ent.text.lower() for ent in question_doc.ents]\n",
    "\n",
    "    # Look for entities in the knowledge graph that match entities in the question\n",
    "    matching_entities = [entity for entity, label in knowledge_graph[\"entities\"] if entity.lower() in question_entities]\n",
    "\n",
    "    # If there are matching entities, return the first one\n",
    "    if matching_entities:\n",
    "        return matching_entities[0]\n",
    "\n",
    "    # Look for relationships in the knowledge graph that match the question\n",
    "    matching_relationships = [\n",
    "        (subject, relation) for subject, relation in knowledge_graph[\"relationships\"]\n",
    "        if relation.lower() in [token.text for token in question_doc]\n",
    "    ]\n",
    "\n",
    "    print(knowledge_graph,question_entities,matching_entities,\"***********\")\n",
    "\n",
    "    # If there are matching relationships, return the first subject\n",
    "    if matching_relationships:\n",
    "        return matching_relationships[0][0]\n",
    "\n",
    "    return \"I don't have information related to the question.\"\n",
    "\n",
    "question = \"What is your Name ?\"\n",
    "answer = get_answer(question, knowledge_graph)\n",
    "print(\"Answer:\", answer)\n"
   ]
  }
 ],
 "metadata": {
  "interpreter": {
   "hash": "31f2aee4e71d21fbe5cf8b01ff0e069b9275f58929596ceb00d14d90e3e16cd6"
  },
  "kernelspec": {
   "display_name": "Python 3.8.10 64-bit",
   "language": "python",
   "name": "python3"
  },
  "language_info": {
   "codemirror_mode": {
    "name": "ipython",
    "version": 3
   },
   "file_extension": ".py",
   "mimetype": "text/x-python",
   "name": "python",
   "nbconvert_exporter": "python",
   "pygments_lexer": "ipython3",
   "version": "3.8.10"
  },
  "orig_nbformat": 4
 },
 "nbformat": 4,
 "nbformat_minor": 2
}
