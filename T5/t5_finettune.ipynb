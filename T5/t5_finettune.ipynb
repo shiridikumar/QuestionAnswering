{
 "cells": [
  {
   "cell_type": "code",
   "execution_count": 1,
   "metadata": {},
   "outputs": [
    {
     "name": "stderr",
     "output_type": "stream",
     "text": [
      "2023-11-20 12:57:14.986863: I tensorflow/core/platform/cpu_feature_guard.cc:193] This TensorFlow binary is optimized with oneAPI Deep Neural Network Library (oneDNN) to use the following CPU instructions in performance-critical operations:  AVX2 FMA\n",
      "To enable them in other operations, rebuild TensorFlow with the appropriate compiler flags.\n",
      "2023-11-20 12:57:18.731207: W tensorflow/compiler/xla/stream_executor/platform/default/dso_loader.cc:64] Could not load dynamic library 'libcudart.so.11.0'; dlerror: libcudart.so.11.0: cannot open shared object file: No such file or directory\n",
      "2023-11-20 12:57:18.731278: I tensorflow/compiler/xla/stream_executor/cuda/cudart_stub.cc:29] Ignore above cudart dlerror if you do not have a GPU set up on your machine.\n",
      "2023-11-20 12:57:28.516614: W tensorflow/compiler/xla/stream_executor/platform/default/dso_loader.cc:64] Could not load dynamic library 'libnvinfer.so.7'; dlerror: libnvinfer.so.7: cannot open shared object file: No such file or directory\n",
      "2023-11-20 12:57:28.517181: W tensorflow/compiler/xla/stream_executor/platform/default/dso_loader.cc:64] Could not load dynamic library 'libnvinfer_plugin.so.7'; dlerror: libnvinfer_plugin.so.7: cannot open shared object file: No such file or directory\n",
      "2023-11-20 12:57:28.517227: W tensorflow/compiler/tf2tensorrt/utils/py_utils.cc:38] TF-TRT Warning: Cannot dlopen some TensorRT libraries. If you would like to use Nvidia GPU with TensorRT, please make sure the missing libraries mentioned above are installed properly.\n",
      "/home/shiridi/.local/lib/python3.8/site-packages/torch/cuda/__init__.py:611: UserWarning: Can't initialize NVML\n",
      "  warnings.warn(\"Can't initialize NVML\")\n",
      "/home/shiridi/.local/lib/python3.8/site-packages/torch/cuda/__init__.py:740: UserWarning: CUDA initialization: The NVIDIA driver on your system is too old (found version 11040). Please update your GPU driver by downloading and installing a new version from the URL: http://www.nvidia.com/Download/index.aspx Alternatively, go to: https://pytorch.org to install a PyTorch version that has been compiled with your version of the CUDA driver. (Triggered internally at ../c10/cuda/CUDAFunctions.cpp:108.)\n",
      "  return torch._C._cuda_getDeviceCount() if nvml_count < 0 else nvml_count\n"
     ]
    }
   ],
   "source": [
    "import nltk\n",
    "from datasets import load_dataset\n",
    "# import evaluate\n",
    "import numpy as np\n",
    "from transformers import T5Tokenizer, DataCollatorForSeq2Seq\n",
    "from transformers import T5ForConditionalGeneration, Seq2SeqTrainingArguments, Seq2SeqTrainer"
   ]
  },
  {
   "cell_type": "code",
   "execution_count": 2,
   "metadata": {},
   "outputs": [
    {
     "name": "stdout",
     "output_type": "stream",
     "text": [
      "Requirement already satisfied: evaluate in /home/shiridi/.local/lib/python3.8/site-packages (0.4.1)\n",
      "Requirement already satisfied: datasets>=2.0.0 in /home/shiridi/.local/lib/python3.8/site-packages (from evaluate) (2.15.0)\n",
      "Requirement already satisfied: numpy>=1.17 in /home/shiridi/.local/lib/python3.8/site-packages (from evaluate) (1.22.3)\n",
      "Requirement already satisfied: dill in /home/shiridi/.local/lib/python3.8/site-packages (from evaluate) (0.3.7)\n",
      "Requirement already satisfied: pandas in /home/shiridi/.local/lib/python3.8/site-packages (from evaluate) (1.4.2)\n",
      "Requirement already satisfied: requests>=2.19.0 in /home/shiridi/.local/lib/python3.8/site-packages (from evaluate) (2.28.2)\n",
      "Requirement already satisfied: tqdm>=4.62.1 in /home/shiridi/.local/lib/python3.8/site-packages (from evaluate) (4.65.0)\n",
      "Requirement already satisfied: xxhash in /home/shiridi/.local/lib/python3.8/site-packages (from evaluate) (3.4.1)\n",
      "Requirement already satisfied: multiprocess in /home/shiridi/.local/lib/python3.8/site-packages (from evaluate) (0.70.15)\n",
      "Requirement already satisfied: fsspec[http]>=2021.05.0 in /home/shiridi/.local/lib/python3.8/site-packages (from evaluate) (2023.9.2)\n",
      "Requirement already satisfied: huggingface-hub>=0.7.0 in /home/shiridi/.local/lib/python3.8/site-packages (from evaluate) (0.19.4)\n",
      "Requirement already satisfied: packaging in /home/shiridi/.local/lib/python3.8/site-packages (from evaluate) (21.3)\n",
      "Requirement already satisfied: responses<0.19 in /home/shiridi/.local/lib/python3.8/site-packages (from evaluate) (0.18.0)\n",
      "Requirement already satisfied: pyarrow>=8.0.0 in /home/shiridi/.local/lib/python3.8/site-packages (from datasets>=2.0.0->evaluate) (14.0.1)\n",
      "Requirement already satisfied: pyarrow-hotfix in /home/shiridi/.local/lib/python3.8/site-packages (from datasets>=2.0.0->evaluate) (0.5)\n",
      "Requirement already satisfied: aiohttp in /home/shiridi/.local/lib/python3.8/site-packages (from datasets>=2.0.0->evaluate) (3.9.0)\n",
      "Requirement already satisfied: pyyaml>=5.1 in /usr/lib/python3/dist-packages (from datasets>=2.0.0->evaluate) (5.3.1)\n",
      "Requirement already satisfied: python-dateutil>=2.8.1 in /home/shiridi/.local/lib/python3.8/site-packages (from pandas->evaluate) (2.8.2)\n",
      "Requirement already satisfied: pytz>=2020.1 in /home/shiridi/.local/lib/python3.8/site-packages (from pandas->evaluate) (2022.1)\n",
      "Requirement already satisfied: charset-normalizer<4,>=2 in /home/shiridi/.local/lib/python3.8/site-packages (from requests>=2.19.0->evaluate) (3.3.2)\n",
      "Requirement already satisfied: idna<4,>=2.5 in /usr/lib/python3/dist-packages (from requests>=2.19.0->evaluate) (2.8)\n",
      "Requirement already satisfied: urllib3<1.27,>=1.21.1 in /home/shiridi/.local/lib/python3.8/site-packages (from requests>=2.19.0->evaluate) (1.26.18)\n",
      "Requirement already satisfied: certifi>=2017.4.17 in /home/shiridi/.local/lib/python3.8/site-packages (from requests>=2.19.0->evaluate) (2020.4.5.1)\n",
      "Requirement already satisfied: filelock in /home/shiridi/.local/lib/python3.8/site-packages (from huggingface-hub>=0.7.0->evaluate) (3.6.0)\n",
      "Requirement already satisfied: typing-extensions>=3.7.4.3 in /home/shiridi/.local/lib/python3.8/site-packages (from huggingface-hub>=0.7.0->evaluate) (4.2.0)\n",
      "Requirement already satisfied: pyparsing!=3.0.5,>=2.0.2 in /home/shiridi/.local/lib/python3.8/site-packages (from packaging->evaluate) (3.0.8)\n",
      "Requirement already satisfied: attrs>=17.3.0 in /home/shiridi/.local/lib/python3.8/site-packages (from aiohttp->datasets>=2.0.0->evaluate) (22.1.0)\n",
      "Requirement already satisfied: multidict<7.0,>=4.5 in /home/shiridi/.local/lib/python3.8/site-packages (from aiohttp->datasets>=2.0.0->evaluate) (6.0.4)\n",
      "Requirement already satisfied: yarl<2.0,>=1.0 in /home/shiridi/.local/lib/python3.8/site-packages (from aiohttp->datasets>=2.0.0->evaluate) (1.9.2)\n",
      "Requirement already satisfied: frozenlist>=1.1.1 in /home/shiridi/.local/lib/python3.8/site-packages (from aiohttp->datasets>=2.0.0->evaluate) (1.4.0)\n",
      "Requirement already satisfied: aiosignal>=1.1.2 in /home/shiridi/.local/lib/python3.8/site-packages (from aiohttp->datasets>=2.0.0->evaluate) (1.3.1)\n",
      "Requirement already satisfied: async-timeout<5.0,>=4.0; python_version < \"3.11\" in /home/shiridi/.local/lib/python3.8/site-packages (from aiohttp->datasets>=2.0.0->evaluate) (4.0.3)\n",
      "Requirement already satisfied: six>=1.5 in /home/shiridi/.local/lib/python3.8/site-packages (from python-dateutil>=2.8.1->pandas->evaluate) (1.16.0)\n",
      "Requirement already up-to-date: accelerate in /home/shiridi/.local/lib/python3.8/site-packages (0.24.1)\n",
      "Requirement already satisfied, skipping upgrade: numpy>=1.17 in /home/shiridi/.local/lib/python3.8/site-packages (from accelerate) (1.22.3)\n",
      "Requirement already satisfied, skipping upgrade: packaging>=20.0 in /home/shiridi/.local/lib/python3.8/site-packages (from accelerate) (21.3)\n",
      "Requirement already satisfied, skipping upgrade: psutil in /home/shiridi/.local/lib/python3.8/site-packages (from accelerate) (5.9.1)\n",
      "Requirement already satisfied, skipping upgrade: pyyaml in /usr/lib/python3/dist-packages (from accelerate) (5.3.1)\n",
      "Requirement already satisfied, skipping upgrade: torch>=1.10.0 in /home/shiridi/.local/lib/python3.8/site-packages (from accelerate) (2.1.0)\n",
      "Requirement already satisfied, skipping upgrade: huggingface-hub in /home/shiridi/.local/lib/python3.8/site-packages (from accelerate) (0.19.4)\n",
      "Requirement already satisfied, skipping upgrade: pyparsing!=3.0.5,>=2.0.2 in /home/shiridi/.local/lib/python3.8/site-packages (from packaging>=20.0->accelerate) (3.0.8)\n",
      "Requirement already satisfied, skipping upgrade: filelock in /home/shiridi/.local/lib/python3.8/site-packages (from torch>=1.10.0->accelerate) (3.6.0)\n",
      "Requirement already satisfied, skipping upgrade: typing-extensions in /home/shiridi/.local/lib/python3.8/site-packages (from torch>=1.10.0->accelerate) (4.2.0)\n",
      "Requirement already satisfied, skipping upgrade: sympy in /home/shiridi/.local/lib/python3.8/site-packages (from torch>=1.10.0->accelerate) (1.12)\n",
      "Requirement already satisfied, skipping upgrade: networkx in /home/shiridi/.local/lib/python3.8/site-packages (from torch>=1.10.0->accelerate) (2.8)\n",
      "Requirement already satisfied, skipping upgrade: jinja2 in /home/shiridi/.local/lib/python3.8/site-packages (from torch>=1.10.0->accelerate) (3.1.1)\n",
      "Requirement already satisfied, skipping upgrade: fsspec in /home/shiridi/.local/lib/python3.8/site-packages (from torch>=1.10.0->accelerate) (2023.9.2)\n",
      "Requirement already satisfied, skipping upgrade: nvidia-cuda-nvrtc-cu12==12.1.105; platform_system == \"Linux\" and platform_machine == \"x86_64\" in /home/shiridi/.local/lib/python3.8/site-packages (from torch>=1.10.0->accelerate) (12.1.105)\n",
      "Requirement already satisfied, skipping upgrade: nvidia-cuda-runtime-cu12==12.1.105; platform_system == \"Linux\" and platform_machine == \"x86_64\" in /home/shiridi/.local/lib/python3.8/site-packages (from torch>=1.10.0->accelerate) (12.1.105)\n",
      "Requirement already satisfied, skipping upgrade: nvidia-cuda-cupti-cu12==12.1.105; platform_system == \"Linux\" and platform_machine == \"x86_64\" in /home/shiridi/.local/lib/python3.8/site-packages (from torch>=1.10.0->accelerate) (12.1.105)\n",
      "Requirement already satisfied, skipping upgrade: nvidia-cudnn-cu12==8.9.2.26; platform_system == \"Linux\" and platform_machine == \"x86_64\" in /home/shiridi/.local/lib/python3.8/site-packages (from torch>=1.10.0->accelerate) (8.9.2.26)\n",
      "Requirement already satisfied, skipping upgrade: nvidia-cublas-cu12==12.1.3.1; platform_system == \"Linux\" and platform_machine == \"x86_64\" in /home/shiridi/.local/lib/python3.8/site-packages (from torch>=1.10.0->accelerate) (12.1.3.1)\n",
      "Requirement already satisfied, skipping upgrade: nvidia-cufft-cu12==11.0.2.54; platform_system == \"Linux\" and platform_machine == \"x86_64\" in /home/shiridi/.local/lib/python3.8/site-packages (from torch>=1.10.0->accelerate) (11.0.2.54)\n",
      "Requirement already satisfied, skipping upgrade: nvidia-curand-cu12==10.3.2.106; platform_system == \"Linux\" and platform_machine == \"x86_64\" in /home/shiridi/.local/lib/python3.8/site-packages (from torch>=1.10.0->accelerate) (10.3.2.106)\n",
      "Requirement already satisfied, skipping upgrade: nvidia-cusolver-cu12==11.4.5.107; platform_system == \"Linux\" and platform_machine == \"x86_64\" in /home/shiridi/.local/lib/python3.8/site-packages (from torch>=1.10.0->accelerate) (11.4.5.107)\n",
      "Requirement already satisfied, skipping upgrade: nvidia-cusparse-cu12==12.1.0.106; platform_system == \"Linux\" and platform_machine == \"x86_64\" in /home/shiridi/.local/lib/python3.8/site-packages (from torch>=1.10.0->accelerate) (12.1.0.106)\n",
      "Requirement already satisfied, skipping upgrade: nvidia-nccl-cu12==2.18.1; platform_system == \"Linux\" and platform_machine == \"x86_64\" in /home/shiridi/.local/lib/python3.8/site-packages (from torch>=1.10.0->accelerate) (2.18.1)\n",
      "Requirement already satisfied, skipping upgrade: nvidia-nvtx-cu12==12.1.105; platform_system == \"Linux\" and platform_machine == \"x86_64\" in /home/shiridi/.local/lib/python3.8/site-packages (from torch>=1.10.0->accelerate) (12.1.105)\n",
      "Requirement already satisfied, skipping upgrade: triton==2.1.0; platform_system == \"Linux\" and platform_machine == \"x86_64\" in /home/shiridi/.local/lib/python3.8/site-packages (from torch>=1.10.0->accelerate) (2.1.0)\n",
      "Requirement already satisfied, skipping upgrade: requests in /home/shiridi/.local/lib/python3.8/site-packages (from huggingface-hub->accelerate) (2.28.2)\n",
      "Requirement already satisfied, skipping upgrade: tqdm>=4.42.1 in /home/shiridi/.local/lib/python3.8/site-packages (from huggingface-hub->accelerate) (4.65.0)\n",
      "Requirement already satisfied, skipping upgrade: mpmath>=0.19 in /home/shiridi/.local/lib/python3.8/site-packages (from sympy->torch>=1.10.0->accelerate) (1.3.0)\n",
      "Requirement already satisfied, skipping upgrade: MarkupSafe>=2.0 in /home/shiridi/.local/lib/python3.8/site-packages (from jinja2->torch>=1.10.0->accelerate) (2.1.1)\n",
      "Requirement already satisfied, skipping upgrade: nvidia-nvjitlink-cu12 in /home/shiridi/.local/lib/python3.8/site-packages (from nvidia-cusolver-cu12==11.4.5.107; platform_system == \"Linux\" and platform_machine == \"x86_64\"->torch>=1.10.0->accelerate) (12.2.140)\n",
      "Requirement already satisfied, skipping upgrade: charset-normalizer<4,>=2 in /home/shiridi/.local/lib/python3.8/site-packages (from requests->huggingface-hub->accelerate) (3.3.2)\n",
      "Requirement already satisfied, skipping upgrade: idna<4,>=2.5 in /usr/lib/python3/dist-packages (from requests->huggingface-hub->accelerate) (2.8)\n",
      "Requirement already satisfied, skipping upgrade: urllib3<1.27,>=1.21.1 in /home/shiridi/.local/lib/python3.8/site-packages (from requests->huggingface-hub->accelerate) (1.26.18)\n",
      "Requirement already satisfied, skipping upgrade: certifi>=2017.4.17 in /home/shiridi/.local/lib/python3.8/site-packages (from requests->huggingface-hub->accelerate) (2020.4.5.1)\n",
      "Requirement already satisfied: datasets in /home/shiridi/.local/lib/python3.8/site-packages (2.15.0)\n",
      "Requirement already satisfied: numpy>=1.17 in /home/shiridi/.local/lib/python3.8/site-packages (from datasets) (1.22.3)\n",
      "Requirement already satisfied: pyarrow>=8.0.0 in /home/shiridi/.local/lib/python3.8/site-packages (from datasets) (14.0.1)\n",
      "Requirement already satisfied: pyarrow-hotfix in /home/shiridi/.local/lib/python3.8/site-packages (from datasets) (0.5)\n",
      "Requirement already satisfied: dill<0.3.8,>=0.3.0 in /home/shiridi/.local/lib/python3.8/site-packages (from datasets) (0.3.7)\n",
      "Requirement already satisfied: pandas in /home/shiridi/.local/lib/python3.8/site-packages (from datasets) (1.4.2)\n",
      "Requirement already satisfied: requests>=2.19.0 in /home/shiridi/.local/lib/python3.8/site-packages (from datasets) (2.28.2)\n",
      "Requirement already satisfied: tqdm>=4.62.1 in /home/shiridi/.local/lib/python3.8/site-packages (from datasets) (4.65.0)\n",
      "Requirement already satisfied: xxhash in /home/shiridi/.local/lib/python3.8/site-packages (from datasets) (3.4.1)\n",
      "Requirement already satisfied: multiprocess in /home/shiridi/.local/lib/python3.8/site-packages (from datasets) (0.70.15)\n",
      "Requirement already satisfied: fsspec[http]<=2023.10.0,>=2023.1.0 in /home/shiridi/.local/lib/python3.8/site-packages (from datasets) (2023.9.2)\n",
      "Requirement already satisfied: aiohttp in /home/shiridi/.local/lib/python3.8/site-packages (from datasets) (3.9.0)\n",
      "Requirement already satisfied: huggingface-hub>=0.18.0 in /home/shiridi/.local/lib/python3.8/site-packages (from datasets) (0.19.4)\n",
      "Requirement already satisfied: packaging in /home/shiridi/.local/lib/python3.8/site-packages (from datasets) (21.3)\n",
      "Requirement already satisfied: pyyaml>=5.1 in /usr/lib/python3/dist-packages (from datasets) (5.3.1)\n",
      "Requirement already satisfied: python-dateutil>=2.8.1 in /home/shiridi/.local/lib/python3.8/site-packages (from pandas->datasets) (2.8.2)\n",
      "Requirement already satisfied: pytz>=2020.1 in /home/shiridi/.local/lib/python3.8/site-packages (from pandas->datasets) (2022.1)\n",
      "Requirement already satisfied: charset-normalizer<4,>=2 in /home/shiridi/.local/lib/python3.8/site-packages (from requests>=2.19.0->datasets) (3.3.2)\n",
      "Requirement already satisfied: idna<4,>=2.5 in /usr/lib/python3/dist-packages (from requests>=2.19.0->datasets) (2.8)\n",
      "Requirement already satisfied: urllib3<1.27,>=1.21.1 in /home/shiridi/.local/lib/python3.8/site-packages (from requests>=2.19.0->datasets) (1.26.18)\n",
      "Requirement already satisfied: certifi>=2017.4.17 in /home/shiridi/.local/lib/python3.8/site-packages (from requests>=2.19.0->datasets) (2020.4.5.1)\n",
      "Requirement already satisfied: attrs>=17.3.0 in /home/shiridi/.local/lib/python3.8/site-packages (from aiohttp->datasets) (22.1.0)\n",
      "Requirement already satisfied: multidict<7.0,>=4.5 in /home/shiridi/.local/lib/python3.8/site-packages (from aiohttp->datasets) (6.0.4)\n",
      "Requirement already satisfied: yarl<2.0,>=1.0 in /home/shiridi/.local/lib/python3.8/site-packages (from aiohttp->datasets) (1.9.2)\n",
      "Requirement already satisfied: frozenlist>=1.1.1 in /home/shiridi/.local/lib/python3.8/site-packages (from aiohttp->datasets) (1.4.0)\n",
      "Requirement already satisfied: aiosignal>=1.1.2 in /home/shiridi/.local/lib/python3.8/site-packages (from aiohttp->datasets) (1.3.1)\n",
      "Requirement already satisfied: async-timeout<5.0,>=4.0; python_version < \"3.11\" in /home/shiridi/.local/lib/python3.8/site-packages (from aiohttp->datasets) (4.0.3)\n",
      "Requirement already satisfied: filelock in /home/shiridi/.local/lib/python3.8/site-packages (from huggingface-hub>=0.18.0->datasets) (3.6.0)\n",
      "Requirement already satisfied: typing-extensions>=3.7.4.3 in /home/shiridi/.local/lib/python3.8/site-packages (from huggingface-hub>=0.18.0->datasets) (4.2.0)\n",
      "Requirement already satisfied: pyparsing!=3.0.5,>=2.0.2 in /home/shiridi/.local/lib/python3.8/site-packages (from packaging->datasets) (3.0.8)\n",
      "Requirement already satisfied: six>=1.5 in /home/shiridi/.local/lib/python3.8/site-packages (from python-dateutil>=2.8.1->pandas->datasets) (1.16.0)\n",
      "Requirement already up-to-date: accelerate in /home/shiridi/.local/lib/python3.8/site-packages (0.24.1)\n",
      "Requirement already satisfied, skipping upgrade: numpy>=1.17 in /home/shiridi/.local/lib/python3.8/site-packages (from accelerate) (1.22.3)\n",
      "Requirement already satisfied, skipping upgrade: packaging>=20.0 in /home/shiridi/.local/lib/python3.8/site-packages (from accelerate) (21.3)\n",
      "Requirement already satisfied, skipping upgrade: psutil in /home/shiridi/.local/lib/python3.8/site-packages (from accelerate) (5.9.1)\n",
      "Requirement already satisfied, skipping upgrade: pyyaml in /usr/lib/python3/dist-packages (from accelerate) (5.3.1)\n",
      "Requirement already satisfied, skipping upgrade: torch>=1.10.0 in /home/shiridi/.local/lib/python3.8/site-packages (from accelerate) (2.1.0)\n",
      "Requirement already satisfied, skipping upgrade: huggingface-hub in /home/shiridi/.local/lib/python3.8/site-packages (from accelerate) (0.19.4)\n",
      "Requirement already satisfied, skipping upgrade: pyparsing!=3.0.5,>=2.0.2 in /home/shiridi/.local/lib/python3.8/site-packages (from packaging>=20.0->accelerate) (3.0.8)\n",
      "Requirement already satisfied, skipping upgrade: filelock in /home/shiridi/.local/lib/python3.8/site-packages (from torch>=1.10.0->accelerate) (3.6.0)\n",
      "Requirement already satisfied, skipping upgrade: typing-extensions in /home/shiridi/.local/lib/python3.8/site-packages (from torch>=1.10.0->accelerate) (4.2.0)\n",
      "Requirement already satisfied, skipping upgrade: sympy in /home/shiridi/.local/lib/python3.8/site-packages (from torch>=1.10.0->accelerate) (1.12)\n",
      "Requirement already satisfied, skipping upgrade: networkx in /home/shiridi/.local/lib/python3.8/site-packages (from torch>=1.10.0->accelerate) (2.8)\n",
      "Requirement already satisfied, skipping upgrade: jinja2 in /home/shiridi/.local/lib/python3.8/site-packages (from torch>=1.10.0->accelerate) (3.1.1)\n",
      "Requirement already satisfied, skipping upgrade: fsspec in /home/shiridi/.local/lib/python3.8/site-packages (from torch>=1.10.0->accelerate) (2023.9.2)\n",
      "Requirement already satisfied, skipping upgrade: nvidia-cuda-nvrtc-cu12==12.1.105; platform_system == \"Linux\" and platform_machine == \"x86_64\" in /home/shiridi/.local/lib/python3.8/site-packages (from torch>=1.10.0->accelerate) (12.1.105)\n",
      "Requirement already satisfied, skipping upgrade: nvidia-cuda-runtime-cu12==12.1.105; platform_system == \"Linux\" and platform_machine == \"x86_64\" in /home/shiridi/.local/lib/python3.8/site-packages (from torch>=1.10.0->accelerate) (12.1.105)\n",
      "Requirement already satisfied, skipping upgrade: nvidia-cuda-cupti-cu12==12.1.105; platform_system == \"Linux\" and platform_machine == \"x86_64\" in /home/shiridi/.local/lib/python3.8/site-packages (from torch>=1.10.0->accelerate) (12.1.105)\n",
      "Requirement already satisfied, skipping upgrade: nvidia-cudnn-cu12==8.9.2.26; platform_system == \"Linux\" and platform_machine == \"x86_64\" in /home/shiridi/.local/lib/python3.8/site-packages (from torch>=1.10.0->accelerate) (8.9.2.26)\n",
      "Requirement already satisfied, skipping upgrade: nvidia-cublas-cu12==12.1.3.1; platform_system == \"Linux\" and platform_machine == \"x86_64\" in /home/shiridi/.local/lib/python3.8/site-packages (from torch>=1.10.0->accelerate) (12.1.3.1)\n",
      "Requirement already satisfied, skipping upgrade: nvidia-cufft-cu12==11.0.2.54; platform_system == \"Linux\" and platform_machine == \"x86_64\" in /home/shiridi/.local/lib/python3.8/site-packages (from torch>=1.10.0->accelerate) (11.0.2.54)\n",
      "Requirement already satisfied, skipping upgrade: nvidia-curand-cu12==10.3.2.106; platform_system == \"Linux\" and platform_machine == \"x86_64\" in /home/shiridi/.local/lib/python3.8/site-packages (from torch>=1.10.0->accelerate) (10.3.2.106)\n",
      "Requirement already satisfied, skipping upgrade: nvidia-cusolver-cu12==11.4.5.107; platform_system == \"Linux\" and platform_machine == \"x86_64\" in /home/shiridi/.local/lib/python3.8/site-packages (from torch>=1.10.0->accelerate) (11.4.5.107)\n",
      "Requirement already satisfied, skipping upgrade: nvidia-cusparse-cu12==12.1.0.106; platform_system == \"Linux\" and platform_machine == \"x86_64\" in /home/shiridi/.local/lib/python3.8/site-packages (from torch>=1.10.0->accelerate) (12.1.0.106)\n",
      "Requirement already satisfied, skipping upgrade: nvidia-nccl-cu12==2.18.1; platform_system == \"Linux\" and platform_machine == \"x86_64\" in /home/shiridi/.local/lib/python3.8/site-packages (from torch>=1.10.0->accelerate) (2.18.1)\n",
      "Requirement already satisfied, skipping upgrade: nvidia-nvtx-cu12==12.1.105; platform_system == \"Linux\" and platform_machine == \"x86_64\" in /home/shiridi/.local/lib/python3.8/site-packages (from torch>=1.10.0->accelerate) (12.1.105)\n",
      "Requirement already satisfied, skipping upgrade: triton==2.1.0; platform_system == \"Linux\" and platform_machine == \"x86_64\" in /home/shiridi/.local/lib/python3.8/site-packages (from torch>=1.10.0->accelerate) (2.1.0)\n",
      "Requirement already satisfied, skipping upgrade: requests in /home/shiridi/.local/lib/python3.8/site-packages (from huggingface-hub->accelerate) (2.28.2)\n",
      "Requirement already satisfied, skipping upgrade: tqdm>=4.42.1 in /home/shiridi/.local/lib/python3.8/site-packages (from huggingface-hub->accelerate) (4.65.0)\n",
      "Requirement already satisfied, skipping upgrade: mpmath>=0.19 in /home/shiridi/.local/lib/python3.8/site-packages (from sympy->torch>=1.10.0->accelerate) (1.3.0)\n",
      "Requirement already satisfied, skipping upgrade: MarkupSafe>=2.0 in /home/shiridi/.local/lib/python3.8/site-packages (from jinja2->torch>=1.10.0->accelerate) (2.1.1)\n",
      "Requirement already satisfied, skipping upgrade: nvidia-nvjitlink-cu12 in /home/shiridi/.local/lib/python3.8/site-packages (from nvidia-cusolver-cu12==11.4.5.107; platform_system == \"Linux\" and platform_machine == \"x86_64\"->torch>=1.10.0->accelerate) (12.2.140)\n",
      "Requirement already satisfied, skipping upgrade: charset-normalizer<4,>=2 in /home/shiridi/.local/lib/python3.8/site-packages (from requests->huggingface-hub->accelerate) (3.3.2)\n",
      "Requirement already satisfied, skipping upgrade: idna<4,>=2.5 in /usr/lib/python3/dist-packages (from requests->huggingface-hub->accelerate) (2.8)\n",
      "Requirement already satisfied, skipping upgrade: urllib3<1.27,>=1.21.1 in /home/shiridi/.local/lib/python3.8/site-packages (from requests->huggingface-hub->accelerate) (1.26.18)\n",
      "Requirement already satisfied, skipping upgrade: certifi>=2017.4.17 in /home/shiridi/.local/lib/python3.8/site-packages (from requests->huggingface-hub->accelerate) (2020.4.5.1)\n"
     ]
    }
   ],
   "source": [
    "!pip install evaluate\n",
    "!pip install accelerate -U\n",
    "!pip install datasets\n",
    "!pip install accelerate -U"
   ]
  },
  {
   "cell_type": "code",
   "execution_count": 3,
   "metadata": {},
   "outputs": [],
   "source": [
    "import evaluate"
   ]
  },
  {
   "cell_type": "code",
   "execution_count": 4,
   "metadata": {},
   "outputs": [
    {
     "name": "stdout",
     "output_type": "stream",
     "text": [
      "zsh:1: no matches found: transformers[sentencepiece]\n",
      "Requirement already satisfied: sentencepiece in /home/shiridi/.local/lib/python3.8/site-packages (0.1.99)\n"
     ]
    }
   ],
   "source": [
    "!pip install datsets transformers[sentencepiece]\n",
    "!pip install sentencepiece"
   ]
  },
  {
   "cell_type": "code",
   "execution_count": 5,
   "metadata": {},
   "outputs": [
    {
     "name": "stderr",
     "output_type": "stream",
     "text": [
      "You are using the default legacy behaviour of the <class 'transformers.models.t5.tokenization_t5.T5Tokenizer'>. This is expected, and simply means that the `legacy` (previous) behavior will be used so nothing changes for you. If you want to use the new behaviour, set `legacy=False`. This should only be set if you understand what it means, and thouroughly read the reason why this was added as explained in https://github.com/huggingface/transformers/pull/24565\n"
     ]
    }
   ],
   "source": [
    "tokenizer = T5Tokenizer.from_pretrained(\"google/flan-t5-base\")\n",
    "model = T5ForConditionalGeneration.from_pretrained(\"google/flan-t5-base\")\n",
    "data_collator = DataCollatorForSeq2Seq(tokenizer=tokenizer, model=model)"
   ]
  },
  {
   "cell_type": "code",
   "execution_count": 6,
   "metadata": {},
   "outputs": [],
   "source": [
    "dataset = load_dataset(\"toughdata/quora-question-answer-dataset\")\n",
    "dataset = dataset[\"train\"].train_test_split(test_size=0.2)"
   ]
  },
  {
   "cell_type": "code",
   "execution_count": 7,
   "metadata": {},
   "outputs": [],
   "source": [
    "def preprocess_labels(examples,maxl=128):\n",
    "    # print(examples,\"***\")\n",
    "    if(str(examples)==\"nan\"):\n",
    "        examples=\"none\"\n",
    "\n",
    "    labels = tokenizer(text_target=examples, max_length=maxl, truncation=True,padding=\"max_length\")\n",
    "\n",
    "\n",
    "    return labels[\"input_ids\"]\n",
    "\n",
    "def preprocess_function(examples,maxl=512):\n",
    "    model_inputs = tokenizer(examples, max_length=maxl, truncation=True,padding=\"max_length\")\n",
    "    # labels = tokenizer(text_target=examples[\"answer\"], max_length=128, truncation=True,padding=\"max_length\")\n",
    "    # model_inputs[\"labels\"] = labels[\"input_ids\"]\n",
    "    \n",
    "    return model_inputs[\"input_ids\"]\n"
   ]
  },
  {
   "cell_type": "code",
   "execution_count": 8,
   "metadata": {},
   "outputs": [],
   "source": [
    "import pandas as pd\n",
    "df=pd.read_csv(\"../Squad_PreProcessed.csv\")\n",
    "passage_ids=pd.read_csv(\"../passage_ids.csv\")\n",
    "passage_ids.set_index(\"id\",inplace=True)\n",
    "df[\"passage\"]=df[\"passage_id\"].apply(lambda x: passage_ids.loc[x][\"passage\"])"
   ]
  },
  {
   "cell_type": "code",
   "execution_count": 126,
   "metadata": {},
   "outputs": [
    {
     "data": {
      "text/html": [
       "<div>\n",
       "<style scoped>\n",
       "    .dataframe tbody tr th:only-of-type {\n",
       "        vertical-align: middle;\n",
       "    }\n",
       "\n",
       "    .dataframe tbody tr th {\n",
       "        vertical-align: top;\n",
       "    }\n",
       "\n",
       "    .dataframe thead th {\n",
       "        text-align: right;\n",
       "    }\n",
       "</style>\n",
       "<table border=\"1\" class=\"dataframe\">\n",
       "  <thead>\n",
       "    <tr style=\"text-align: right;\">\n",
       "      <th></th>\n",
       "      <th>qn_id</th>\n",
       "      <th>title</th>\n",
       "      <th>passage_id</th>\n",
       "      <th>qn_id.1</th>\n",
       "      <th>question</th>\n",
       "      <th>answer_text</th>\n",
       "      <th>answer_start</th>\n",
       "      <th>CorrectSentence</th>\n",
       "      <th>passage</th>\n",
       "      <th>input</th>\n",
       "    </tr>\n",
       "  </thead>\n",
       "  <tbody>\n",
       "    <tr>\n",
       "      <th>0</th>\n",
       "      <td>56be85543aeaaa14008c9063</td>\n",
       "      <td>Beyoncé</td>\n",
       "      <td>Beyoncé_0</td>\n",
       "      <td>56be85543aeaaa14008c9063</td>\n",
       "      <td>When did Beyonce start becoming popular?</td>\n",
       "      <td>in the late 1990s</td>\n",
       "      <td>269</td>\n",
       "      <td>1</td>\n",
       "      <td>Beyoncé Giselle Knowles-Carter (/biːˈjɒnseɪ/ b...</td>\n",
       "      <td>answer the question: Beyoncé Giselle Knowles-C...</td>\n",
       "    </tr>\n",
       "    <tr>\n",
       "      <th>1</th>\n",
       "      <td>56be85543aeaaa14008c9065</td>\n",
       "      <td>Beyoncé</td>\n",
       "      <td>Beyoncé_0</td>\n",
       "      <td>56be85543aeaaa14008c9065</td>\n",
       "      <td>What areas did Beyonce compete in when she was...</td>\n",
       "      <td>singing and dancing</td>\n",
       "      <td>207</td>\n",
       "      <td>1</td>\n",
       "      <td>Beyoncé Giselle Knowles-Carter (/biːˈjɒnseɪ/ b...</td>\n",
       "      <td>answer the question: Beyoncé Giselle Knowles-C...</td>\n",
       "    </tr>\n",
       "    <tr>\n",
       "      <th>2</th>\n",
       "      <td>56be85543aeaaa14008c9066</td>\n",
       "      <td>Beyoncé</td>\n",
       "      <td>Beyoncé_0</td>\n",
       "      <td>56be85543aeaaa14008c9066</td>\n",
       "      <td>When did Beyonce leave Destiny's Child and bec...</td>\n",
       "      <td>2003</td>\n",
       "      <td>526</td>\n",
       "      <td>3</td>\n",
       "      <td>Beyoncé Giselle Knowles-Carter (/biːˈjɒnseɪ/ b...</td>\n",
       "      <td>answer the question: Beyoncé Giselle Knowles-C...</td>\n",
       "    </tr>\n",
       "    <tr>\n",
       "      <th>3</th>\n",
       "      <td>56bf6b0f3aeaaa14008c9601</td>\n",
       "      <td>Beyoncé</td>\n",
       "      <td>Beyoncé_0</td>\n",
       "      <td>56bf6b0f3aeaaa14008c9601</td>\n",
       "      <td>In what city and state did Beyonce  grow up?</td>\n",
       "      <td>Houston, Texas</td>\n",
       "      <td>166</td>\n",
       "      <td>1</td>\n",
       "      <td>Beyoncé Giselle Knowles-Carter (/biːˈjɒnseɪ/ b...</td>\n",
       "      <td>answer the question: Beyoncé Giselle Knowles-C...</td>\n",
       "    </tr>\n",
       "    <tr>\n",
       "      <th>4</th>\n",
       "      <td>56bf6b0f3aeaaa14008c9602</td>\n",
       "      <td>Beyoncé</td>\n",
       "      <td>Beyoncé_0</td>\n",
       "      <td>56bf6b0f3aeaaa14008c9602</td>\n",
       "      <td>In which decade did Beyonce become famous?</td>\n",
       "      <td>late 1990s</td>\n",
       "      <td>276</td>\n",
       "      <td>1</td>\n",
       "      <td>Beyoncé Giselle Knowles-Carter (/biːˈjɒnseɪ/ b...</td>\n",
       "      <td>answer the question: Beyoncé Giselle Knowles-C...</td>\n",
       "    </tr>\n",
       "    <tr>\n",
       "      <th>...</th>\n",
       "      <td>...</td>\n",
       "      <td>...</td>\n",
       "      <td>...</td>\n",
       "      <td>...</td>\n",
       "      <td>...</td>\n",
       "      <td>...</td>\n",
       "      <td>...</td>\n",
       "      <td>...</td>\n",
       "      <td>...</td>\n",
       "      <td>...</td>\n",
       "    </tr>\n",
       "    <tr>\n",
       "      <th>86602</th>\n",
       "      <td>5735d259012e2f140011a09d</td>\n",
       "      <td>Kathmandu</td>\n",
       "      <td>Kathmandu_18979</td>\n",
       "      <td>5735d259012e2f140011a09d</td>\n",
       "      <td>In what US state did Kathmandu first establish...</td>\n",
       "      <td>Oregon</td>\n",
       "      <td>229</td>\n",
       "      <td>1</td>\n",
       "      <td>Kathmandu Metropolitan City (KMC), in order to...</td>\n",
       "      <td>answer the question: Kathmandu Metropolitan Ci...</td>\n",
       "    </tr>\n",
       "    <tr>\n",
       "      <th>86603</th>\n",
       "      <td>5735d259012e2f140011a09e</td>\n",
       "      <td>Kathmandu</td>\n",
       "      <td>Kathmandu_18979</td>\n",
       "      <td>5735d259012e2f140011a09e</td>\n",
       "      <td>What was Yangon previously known as?</td>\n",
       "      <td>Rangoon</td>\n",
       "      <td>414</td>\n",
       "      <td>2</td>\n",
       "      <td>Kathmandu Metropolitan City (KMC), in order to...</td>\n",
       "      <td>answer the question: Kathmandu Metropolitan Ci...</td>\n",
       "    </tr>\n",
       "    <tr>\n",
       "      <th>86604</th>\n",
       "      <td>5735d259012e2f140011a09f</td>\n",
       "      <td>Kathmandu</td>\n",
       "      <td>Kathmandu_18979</td>\n",
       "      <td>5735d259012e2f140011a09f</td>\n",
       "      <td>With what Belorussian city does Kathmandu have...</td>\n",
       "      <td>Minsk</td>\n",
       "      <td>476</td>\n",
       "      <td>2</td>\n",
       "      <td>Kathmandu Metropolitan City (KMC), in order to...</td>\n",
       "      <td>answer the question: Kathmandu Metropolitan Ci...</td>\n",
       "    </tr>\n",
       "    <tr>\n",
       "      <th>86605</th>\n",
       "      <td>5735d259012e2f140011a0a0</td>\n",
       "      <td>Kathmandu</td>\n",
       "      <td>Kathmandu_18979</td>\n",
       "      <td>5735d259012e2f140011a0a0</td>\n",
       "      <td>In what year did Kathmandu create its initial ...</td>\n",
       "      <td>1975</td>\n",
       "      <td>199</td>\n",
       "      <td>1</td>\n",
       "      <td>Kathmandu Metropolitan City (KMC), in order to...</td>\n",
       "      <td>answer the question: Kathmandu Metropolitan Ci...</td>\n",
       "    </tr>\n",
       "    <tr>\n",
       "      <th>86606</th>\n",
       "      <td>5735d259012e2f140011a0a1</td>\n",
       "      <td>Kathmandu</td>\n",
       "      <td>Kathmandu_18979</td>\n",
       "      <td>5735d259012e2f140011a0a1</td>\n",
       "      <td>What is KMC an initialism of?</td>\n",
       "      <td>Kathmandu Metropolitan City</td>\n",
       "      <td>0</td>\n",
       "      <td>0</td>\n",
       "      <td>Kathmandu Metropolitan City (KMC), in order to...</td>\n",
       "      <td>answer the question: Kathmandu Metropolitan Ci...</td>\n",
       "    </tr>\n",
       "  </tbody>\n",
       "</table>\n",
       "<p>86607 rows × 10 columns</p>\n",
       "</div>"
      ],
      "text/plain": [
       "                          qn_id      title       passage_id  \\\n",
       "0      56be85543aeaaa14008c9063    Beyoncé        Beyoncé_0   \n",
       "1      56be85543aeaaa14008c9065    Beyoncé        Beyoncé_0   \n",
       "2      56be85543aeaaa14008c9066    Beyoncé        Beyoncé_0   \n",
       "3      56bf6b0f3aeaaa14008c9601    Beyoncé        Beyoncé_0   \n",
       "4      56bf6b0f3aeaaa14008c9602    Beyoncé        Beyoncé_0   \n",
       "...                         ...        ...              ...   \n",
       "86602  5735d259012e2f140011a09d  Kathmandu  Kathmandu_18979   \n",
       "86603  5735d259012e2f140011a09e  Kathmandu  Kathmandu_18979   \n",
       "86604  5735d259012e2f140011a09f  Kathmandu  Kathmandu_18979   \n",
       "86605  5735d259012e2f140011a0a0  Kathmandu  Kathmandu_18979   \n",
       "86606  5735d259012e2f140011a0a1  Kathmandu  Kathmandu_18979   \n",
       "\n",
       "                        qn_id.1  \\\n",
       "0      56be85543aeaaa14008c9063   \n",
       "1      56be85543aeaaa14008c9065   \n",
       "2      56be85543aeaaa14008c9066   \n",
       "3      56bf6b0f3aeaaa14008c9601   \n",
       "4      56bf6b0f3aeaaa14008c9602   \n",
       "...                         ...   \n",
       "86602  5735d259012e2f140011a09d   \n",
       "86603  5735d259012e2f140011a09e   \n",
       "86604  5735d259012e2f140011a09f   \n",
       "86605  5735d259012e2f140011a0a0   \n",
       "86606  5735d259012e2f140011a0a1   \n",
       "\n",
       "                                                question  \\\n",
       "0               When did Beyonce start becoming popular?   \n",
       "1      What areas did Beyonce compete in when she was...   \n",
       "2      When did Beyonce leave Destiny's Child and bec...   \n",
       "3          In what city and state did Beyonce  grow up?    \n",
       "4             In which decade did Beyonce become famous?   \n",
       "...                                                  ...   \n",
       "86602  In what US state did Kathmandu first establish...   \n",
       "86603               What was Yangon previously known as?   \n",
       "86604  With what Belorussian city does Kathmandu have...   \n",
       "86605  In what year did Kathmandu create its initial ...   \n",
       "86606                      What is KMC an initialism of?   \n",
       "\n",
       "                       answer_text  answer_start  CorrectSentence  \\\n",
       "0                in the late 1990s           269                1   \n",
       "1              singing and dancing           207                1   \n",
       "2                             2003           526                3   \n",
       "3                   Houston, Texas           166                1   \n",
       "4                       late 1990s           276                1   \n",
       "...                            ...           ...              ...   \n",
       "86602                       Oregon           229                1   \n",
       "86603                      Rangoon           414                2   \n",
       "86604                        Minsk           476                2   \n",
       "86605                         1975           199                1   \n",
       "86606  Kathmandu Metropolitan City             0                0   \n",
       "\n",
       "                                                 passage  \\\n",
       "0      Beyoncé Giselle Knowles-Carter (/biːˈjɒnseɪ/ b...   \n",
       "1      Beyoncé Giselle Knowles-Carter (/biːˈjɒnseɪ/ b...   \n",
       "2      Beyoncé Giselle Knowles-Carter (/biːˈjɒnseɪ/ b...   \n",
       "3      Beyoncé Giselle Knowles-Carter (/biːˈjɒnseɪ/ b...   \n",
       "4      Beyoncé Giselle Knowles-Carter (/biːˈjɒnseɪ/ b...   \n",
       "...                                                  ...   \n",
       "86602  Kathmandu Metropolitan City (KMC), in order to...   \n",
       "86603  Kathmandu Metropolitan City (KMC), in order to...   \n",
       "86604  Kathmandu Metropolitan City (KMC), in order to...   \n",
       "86605  Kathmandu Metropolitan City (KMC), in order to...   \n",
       "86606  Kathmandu Metropolitan City (KMC), in order to...   \n",
       "\n",
       "                                                   input  \n",
       "0      answer the question: Beyoncé Giselle Knowles-C...  \n",
       "1      answer the question: Beyoncé Giselle Knowles-C...  \n",
       "2      answer the question: Beyoncé Giselle Knowles-C...  \n",
       "3      answer the question: Beyoncé Giselle Knowles-C...  \n",
       "4      answer the question: Beyoncé Giselle Knowles-C...  \n",
       "...                                                  ...  \n",
       "86602  answer the question: Kathmandu Metropolitan Ci...  \n",
       "86603  answer the question: Kathmandu Metropolitan Ci...  \n",
       "86604  answer the question: Kathmandu Metropolitan Ci...  \n",
       "86605  answer the question: Kathmandu Metropolitan Ci...  \n",
       "86606  answer the question: Kathmandu Metropolitan Ci...  \n",
       "\n",
       "[86607 rows x 10 columns]"
      ]
     },
     "execution_count": 126,
     "metadata": {},
     "output_type": "execute_result"
    }
   ],
   "source": [
    "df"
   ]
  },
  {
   "cell_type": "code",
   "execution_count": 9,
   "metadata": {},
   "outputs": [],
   "source": [
    "df[\"input\"]=df[\"passage\"].apply(lambda x : \"answer the question: \"+x)\n",
    "df[\"temp\"]=df[\"question\"].apply(lambda x: \" <sep> \"+ str(x))\n",
    "df[\"input\"]=df[\"input\"]+df[\"temp\"]\n",
    "df[\"input_ids\"]=df[\"input\"].apply(lambda x: preprocess_function(x,512))"
   ]
  },
  {
   "cell_type": "code",
   "execution_count": 10,
   "metadata": {},
   "outputs": [],
   "source": [
    "lbls=[None for i in range(len(df))]\n",
    "for i in range(len(df)):\n",
    "    lbls[i]=preprocess_labels(df[\"answer_text\"][i],128)"
   ]
  },
  {
   "cell_type": "code",
   "execution_count": 11,
   "metadata": {},
   "outputs": [],
   "source": [
    "df[\"labels\"]=lbls"
   ]
  },
  {
   "cell_type": "code",
   "execution_count": 12,
   "metadata": {},
   "outputs": [],
   "source": [
    "nltk.download(\"punkt\", quiet=True)\n",
    "metric = evaluate.load(\"rouge\")\n",
    "\n",
    "def compute_metrics(eval_preds):\n",
    "    preds, labels = eval_preds\n",
    "\n",
    "    # decode preds and labels\n",
    "    labels = np.where(labels != -100, labels, tokenizer.pad_token_id)\n",
    "    decoded_preds = tokenizer.batch_decode(preds, skip_special_tokens=True)\n",
    "    decoded_labels = tokenizer.batch_decode(labels, skip_special_tokens=True)\n",
    "\n",
    "    # rougeLSum expects newline after each sentence\n",
    "    decoded_preds = [\"\\n\".join(nltk.sent_tokenize(pred.strip())) for pred in decoded_preds]\n",
    "    decoded_labels = [\"\\n\".join(nltk.sent_tokenize(label.strip())) for label in decoded_labels]\n",
    "\n",
    "    result = metric.compute(predictions=decoded_preds, references=decoded_labels, use_stemmer=True)\n",
    "    return result"
   ]
  },
  {
   "cell_type": "code",
   "execution_count": 13,
   "metadata": {},
   "outputs": [],
   "source": [
    "ind=int(0.8*len(df))\n",
    "train=df.iloc[:ind,:]\n",
    "test=df.iloc[ind:,]"
   ]
  },
  {
   "cell_type": "code",
   "execution_count": 17,
   "metadata": {},
   "outputs": [],
   "source": [
    "train=train[[\"input_ids\",\"labels\"]]\n",
    "test=test[[\"input_ids\",\"labels\"]]"
   ]
  },
  {
   "cell_type": "code",
   "execution_count": 20,
   "metadata": {},
   "outputs": [],
   "source": [
    "from torch.utils.data import Dataset, DataLoader\n"
   ]
  },
  {
   "cell_type": "code",
   "execution_count": 21,
   "metadata": {},
   "outputs": [
    {
     "data": {
      "application/vnd.jupyter.widget-view+json": {
       "model_id": "ef90141f16c245b0ad33a633449d3751",
       "version_major": 2,
       "version_minor": 0
      },
      "text/plain": [
       "Downloading builder script:   0%|          | 0.00/5.27k [00:00<?, ?B/s]"
      ]
     },
     "metadata": {},
     "output_type": "display_data"
    },
    {
     "data": {
      "application/vnd.jupyter.widget-view+json": {
       "model_id": "eddbba37542e44c8b9861ad020c2b98c",
       "version_major": 2,
       "version_minor": 0
      },
      "text/plain": [
       "Downloading metadata:   0%|          | 0.00/2.36k [00:00<?, ?B/s]"
      ]
     },
     "metadata": {},
     "output_type": "display_data"
    },
    {
     "data": {
      "application/vnd.jupyter.widget-view+json": {
       "model_id": "52742f55281e486090f49505f5a194b0",
       "version_major": 2,
       "version_minor": 0
      },
      "text/plain": [
       "Downloading readme:   0%|          | 0.00/7.67k [00:00<?, ?B/s]"
      ]
     },
     "metadata": {},
     "output_type": "display_data"
    },
    {
     "data": {
      "application/vnd.jupyter.widget-view+json": {
       "model_id": "3bc0de3f6eb141f4aa844d8cf152c53d",
       "version_major": 2,
       "version_minor": 0
      },
      "text/plain": [
       "Downloading data files:   0%|          | 0/2 [00:00<?, ?it/s]"
      ]
     },
     "metadata": {},
     "output_type": "display_data"
    },
    {
     "data": {
      "application/vnd.jupyter.widget-view+json": {
       "model_id": "e18b9907040646eb912dde04017b6404",
       "version_major": 2,
       "version_minor": 0
      },
      "text/plain": [
       "Downloading data:   0%|          | 0.00/8.12M [00:00<?, ?B/s]"
      ]
     },
     "metadata": {},
     "output_type": "display_data"
    },
    {
     "data": {
      "application/vnd.jupyter.widget-view+json": {
       "model_id": "67735d76b690489da24ce9261535d7c6",
       "version_major": 2,
       "version_minor": 0
      },
      "text/plain": [
       "Downloading data:   0%|          | 0.00/1.05M [00:00<?, ?B/s]"
      ]
     },
     "metadata": {},
     "output_type": "display_data"
    },
    {
     "data": {
      "application/vnd.jupyter.widget-view+json": {
       "model_id": "2ce69749c5124d4d8823eb41680588d2",
       "version_major": 2,
       "version_minor": 0
      },
      "text/plain": [
       "Extracting data files:   0%|          | 0/2 [00:00<?, ?it/s]"
      ]
     },
     "metadata": {},
     "output_type": "display_data"
    },
    {
     "data": {
      "application/vnd.jupyter.widget-view+json": {
       "model_id": "e646bf788d3440e49c29f41049162474",
       "version_major": 2,
       "version_minor": 0
      },
      "text/plain": [
       "Generating train split:   0%|          | 0/87599 [00:00<?, ? examples/s]"
      ]
     },
     "metadata": {},
     "output_type": "display_data"
    },
    {
     "data": {
      "application/vnd.jupyter.widget-view+json": {
       "model_id": "0a7c97072ead495c9671946ce3e6abe2",
       "version_major": 2,
       "version_minor": 0
      },
      "text/plain": [
       "Generating validation split:   0%|          | 0/10570 [00:00<?, ? examples/s]"
      ]
     },
     "metadata": {},
     "output_type": "display_data"
    }
   ],
   "source": [
    "squad_dataset = load_dataset(\"squad\")\n",
    "train_dataset = squad_dataset[\"train\"]"
   ]
  },
  {
   "cell_type": "code",
   "execution_count": 22,
   "metadata": {},
   "outputs": [],
   "source": [
    "class SquadDataset(Dataset):\n",
    "    def __init__(self, squad_examples, tokenizer):\n",
    "        self.squad_examples = squad_examples\n",
    "        self.tokenizer = tokenizer\n",
    "\n",
    "    def __len__(self):\n",
    "        return len(self.squad_examples)\n",
    "\n",
    "    def __getitem__(self, idx):\n",
    "        example = self.squad_examples[idx]\n",
    "\n",
    "        # Tokenize the context and question\n",
    "        inputs = self.tokenizer(\n",
    "            example[\"context\"],\n",
    "            example[\"question\"],\n",
    "            return_tensors=\"pt\",\n",
    "            padding=\"max_length\",\n",
    "            truncation=True,\n",
    "            max_length=512,  # Adjust as needed based on your model's maximum input length\n",
    "        )\n",
    "\n",
    "        # Tokenize the answer span\n",
    "        answer_start = example[\"answers\"][\"answer_start\"][0]\n",
    "        answer_end = answer_start + len(example[\"answers\"][\"text\"][0])\n",
    "        labels = tokenizer(\n",
    "            example[\"answers\"][\"text\"][0],\n",
    "            return_tensors=\"pt\",\n",
    "            padding=\"max_length\",\n",
    "            truncation=True,\n",
    "            max_length=32,  # Adjust as needed based on your maximum answer length\n",
    "        )\n",
    "\n",
    "        return {\n",
    "            \"input_ids\": inputs[\"input_ids\"].squeeze(),\n",
    "            \"attention_mask\": inputs[\"attention_mask\"].squeeze(),\n",
    "            \"labels\": labels[\"input_ids\"].squeeze(),\n",
    "        }\n",
    "\n",
    "custom_dataset = SquadDataset(train_dataset, tokenizer)"
   ]
  },
  {
   "cell_type": "code",
   "execution_count": 24,
   "metadata": {},
   "outputs": [],
   "source": [
    "train_dataloader = DataLoader(custom_dataset, batch_size=8, shuffle=True)"
   ]
  },
  {
   "cell_type": "code",
   "execution_count": 27,
   "metadata": {},
   "outputs": [
    {
     "data": {
      "application/vnd.jupyter.widget-view+json": {
       "model_id": "46c7b8ae44f644b89464bbb8e7153c47",
       "version_major": 2,
       "version_minor": 0
      },
      "text/plain": [
       "  0%|          | 0/21900 [00:00<?, ?it/s]"
      ]
     },
     "metadata": {},
     "output_type": "display_data"
    }
   ],
   "source": [
    "training_args = Seq2SeqTrainingArguments(\n",
    "    output_dir=\"./results\",\n",
    "    evaluation_strategy=\"epoch\",\n",
    "    learning_rate=3e-4,\n",
    "    per_device_train_batch_size=8,\n",
    "    per_device_eval_batch_size=4,\n",
    "    weight_decay=0.01,\n",
    "    save_total_limit=3,\n",
    "    num_train_epochs=2,\n",
    "    predict_with_generate=True,\n",
    "    push_to_hub=False\n",
    ")\n",
    "\n",
    "# Set up trainer\n",
    "trainer = Seq2SeqTrainer(\n",
    "    model=model,\n",
    "    args=training_args,\n",
    "    train_dataset=custom_dataset,\n",
    "    # eval_dataset=test,\n",
    "    tokenizer=tokenizer,\n",
    "    data_collator=data_collator,\n",
    "    compute_metrics=compute_metrics\n",
    ")\n",
    "\n",
    "# Train the model\n",
    "trainer.train()"
   ]
  }
 ],
 "metadata": {
  "interpreter": {
   "hash": "31f2aee4e71d21fbe5cf8b01ff0e069b9275f58929596ceb00d14d90e3e16cd6"
  },
  "kernelspec": {
   "display_name": "Python 3.8.10 64-bit",
   "language": "python",
   "name": "python3"
  },
  "language_info": {
   "codemirror_mode": {
    "name": "ipython",
    "version": 3
   },
   "file_extension": ".py",
   "mimetype": "text/x-python",
   "name": "python",
   "nbconvert_exporter": "python",
   "pygments_lexer": "ipython3",
   "version": "3.8.10"
  },
  "orig_nbformat": 4
 },
 "nbformat": 4,
 "nbformat_minor": 2
}
