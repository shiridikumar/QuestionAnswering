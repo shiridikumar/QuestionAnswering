{
  "cells": [
    {
      "cell_type": "code",
      "execution_count": 2,
      "metadata": {
        "colab": {
          "base_uri": "https://localhost:8080/"
        },
        "id": "hCBT3i1uy2fl",
        "outputId": "507f3e9e-86d2-47f9-84d5-0e4774347b97"
      },
      "outputs": [
        {
          "name": "stderr",
          "output_type": "stream",
          "text": [
            "[nltk_data] Downloading package punkt to /home/shiridi/nltk_data...\n",
            "[nltk_data]   Package punkt is already up-to-date!\n"
          ]
        }
      ],
      "source": [
        "import tensorflow as tf\n",
        "import numpy as np\n",
        "from sklearn.model_selection import train_test_split\n",
        "import tensorflow as tf\n",
        "from tensorflow.keras.layers import Dense,Input\n",
        "from tensorflow.keras.models import Sequential\n",
        "from tensorflow.keras.layers import *\n",
        "from tensorflow.keras.models import Model\n",
        "from tensorflow.keras.layers import Dropout\n",
        "from tensorflow.keras.layers import BatchNormalization\n",
        "from tensorflow.keras.layers import Conv2DTranspose\n",
        "from tensorflow.keras.layers import concatenate\n",
        "from tensorflow.keras.losses import binary_crossentropy\n",
        "import tensorflow as tf\n",
        "from keras.layers import Conv2D,MaxPooling2D,Flatten,Dense,Dropout\n",
        "import pandas as pd\n",
        "from sklearn.preprocessing import LabelEncoder\n",
        "from sklearn.preprocessing import OneHotEncoder\n",
        "import re\n",
        "import random\n",
        "from random import randint\n",
        "from nltk.stem import PorterStemmer\n",
        "porter = PorterStemmer()\n",
        "import json\n",
        "import re\n",
        "import nltk\n",
        "from nltk.tokenize import sent_tokenize\n",
        "import numpy as np\n",
        "nltk.download('punkt')\n",
        "# from google.colab import drive\n",
        "# drive.mount('/content/drive')\n",
        "import pandas  as pd"
      ]
    },
    {
      "cell_type": "code",
      "execution_count": 3,
      "metadata": {
        "id": "yrOq_ncYy5zI"
      },
      "outputs": [],
      "source": [
        "passage_ids=pd.read_csv(\"..//passage_ids.csv\")\n",
        "df=pd.read_csv(\"../Squad_PreProcessed.csv\")\n",
        "passage_ids.set_index(\"id\",inplace=True)\n",
        "def getsent(x):\n",
        "    sent=sent_tokenize(passage_ids.loc[x].values[0])\n",
        "    return str(sent)\n",
        "\n",
        "df[\"sentences\"]=df[\"passage_id\"].apply(lambda x : getsent(x))"
      ]
    },
    {
      "cell_type": "code",
      "execution_count": 5,
      "metadata": {
        "colab": {
          "base_uri": "https://localhost:8080/"
        },
        "id": "Au3p7xJLy6ej",
        "outputId": "fc3b1298-0405-40d8-92ae-bc16a53fbcd2"
      },
      "outputs": [
        {
          "name": "stdout",
          "output_type": "stream",
          "text": [
            "Requirement already up-to-date: sentence-transformers in /home/shiridi/.local/lib/python3.8/site-packages (2.2.2)\n",
            "Requirement already satisfied, skipping upgrade: transformers<5.0.0,>=4.6.0 in /home/shiridi/.local/lib/python3.8/site-packages (from sentence-transformers) (4.34.0)\n",
            "Requirement already satisfied, skipping upgrade: tqdm in /home/shiridi/.local/lib/python3.8/site-packages (from sentence-transformers) (4.65.0)\n",
            "Requirement already satisfied, skipping upgrade: torch>=1.6.0 in /home/shiridi/.local/lib/python3.8/site-packages (from sentence-transformers) (2.1.0)\n",
            "Requirement already satisfied, skipping upgrade: torchvision in /home/shiridi/.local/lib/python3.8/site-packages (from sentence-transformers) (0.16.1)\n",
            "Requirement already satisfied, skipping upgrade: numpy in /home/shiridi/.local/lib/python3.8/site-packages (from sentence-transformers) (1.22.3)\n",
            "Requirement already satisfied, skipping upgrade: scikit-learn in /home/shiridi/.local/lib/python3.8/site-packages (from sentence-transformers) (1.1.2)\n",
            "Requirement already satisfied, skipping upgrade: scipy in /home/shiridi/.local/lib/python3.8/site-packages (from sentence-transformers) (1.8.0)\n",
            "Requirement already satisfied, skipping upgrade: nltk in /home/shiridi/.local/lib/python3.8/site-packages (from sentence-transformers) (3.8.1)\n",
            "Requirement already satisfied, skipping upgrade: sentencepiece in /home/shiridi/.local/lib/python3.8/site-packages (from sentence-transformers) (0.1.99)\n",
            "Requirement already satisfied, skipping upgrade: huggingface-hub>=0.4.0 in /home/shiridi/.local/lib/python3.8/site-packages (from sentence-transformers) (0.19.4)\n",
            "Requirement already satisfied, skipping upgrade: filelock in /home/shiridi/.local/lib/python3.8/site-packages (from transformers<5.0.0,>=4.6.0->sentence-transformers) (3.6.0)\n",
            "Requirement already satisfied, skipping upgrade: packaging>=20.0 in /home/shiridi/.local/lib/python3.8/site-packages (from transformers<5.0.0,>=4.6.0->sentence-transformers) (21.3)\n",
            "Requirement already satisfied, skipping upgrade: pyyaml>=5.1 in /usr/lib/python3/dist-packages (from transformers<5.0.0,>=4.6.0->sentence-transformers) (5.3.1)\n",
            "Requirement already satisfied, skipping upgrade: regex!=2019.12.17 in /home/shiridi/.local/lib/python3.8/site-packages (from transformers<5.0.0,>=4.6.0->sentence-transformers) (2023.8.8)\n",
            "Requirement already satisfied, skipping upgrade: requests in /home/shiridi/.local/lib/python3.8/site-packages (from transformers<5.0.0,>=4.6.0->sentence-transformers) (2.28.2)\n",
            "Requirement already satisfied, skipping upgrade: tokenizers<0.15,>=0.14 in /home/shiridi/.local/lib/python3.8/site-packages (from transformers<5.0.0,>=4.6.0->sentence-transformers) (0.14.1)\n",
            "Requirement already satisfied, skipping upgrade: safetensors>=0.3.1 in /home/shiridi/.local/lib/python3.8/site-packages (from transformers<5.0.0,>=4.6.0->sentence-transformers) (0.4.0)\n",
            "Requirement already satisfied, skipping upgrade: typing-extensions in /home/shiridi/.local/lib/python3.8/site-packages (from torch>=1.6.0->sentence-transformers) (4.8.0)\n",
            "Requirement already satisfied, skipping upgrade: sympy in /home/shiridi/.local/lib/python3.8/site-packages (from torch>=1.6.0->sentence-transformers) (1.12)\n",
            "Requirement already satisfied, skipping upgrade: networkx in /home/shiridi/.local/lib/python3.8/site-packages (from torch>=1.6.0->sentence-transformers) (2.8)\n",
            "Requirement already satisfied, skipping upgrade: jinja2 in /home/shiridi/.local/lib/python3.8/site-packages (from torch>=1.6.0->sentence-transformers) (3.1.1)\n",
            "Requirement already satisfied, skipping upgrade: fsspec in /home/shiridi/.local/lib/python3.8/site-packages (from torch>=1.6.0->sentence-transformers) (2023.9.2)\n",
            "Requirement already satisfied, skipping upgrade: nvidia-cuda-nvrtc-cu12==12.1.105; platform_system == \"Linux\" and platform_machine == \"x86_64\" in /home/shiridi/.local/lib/python3.8/site-packages (from torch>=1.6.0->sentence-transformers) (12.1.105)\n",
            "Requirement already satisfied, skipping upgrade: nvidia-cuda-runtime-cu12==12.1.105; platform_system == \"Linux\" and platform_machine == \"x86_64\" in /home/shiridi/.local/lib/python3.8/site-packages (from torch>=1.6.0->sentence-transformers) (12.1.105)\n",
            "Requirement already satisfied, skipping upgrade: nvidia-cuda-cupti-cu12==12.1.105; platform_system == \"Linux\" and platform_machine == \"x86_64\" in /home/shiridi/.local/lib/python3.8/site-packages (from torch>=1.6.0->sentence-transformers) (12.1.105)\n",
            "Requirement already satisfied, skipping upgrade: nvidia-cudnn-cu12==8.9.2.26; platform_system == \"Linux\" and platform_machine == \"x86_64\" in /home/shiridi/.local/lib/python3.8/site-packages (from torch>=1.6.0->sentence-transformers) (8.9.2.26)\n",
            "Requirement already satisfied, skipping upgrade: nvidia-cublas-cu12==12.1.3.1; platform_system == \"Linux\" and platform_machine == \"x86_64\" in /home/shiridi/.local/lib/python3.8/site-packages (from torch>=1.6.0->sentence-transformers) (12.1.3.1)\n",
            "Requirement already satisfied, skipping upgrade: nvidia-cufft-cu12==11.0.2.54; platform_system == \"Linux\" and platform_machine == \"x86_64\" in /home/shiridi/.local/lib/python3.8/site-packages (from torch>=1.6.0->sentence-transformers) (11.0.2.54)\n",
            "Requirement already satisfied, skipping upgrade: nvidia-curand-cu12==10.3.2.106; platform_system == \"Linux\" and platform_machine == \"x86_64\" in /home/shiridi/.local/lib/python3.8/site-packages (from torch>=1.6.0->sentence-transformers) (10.3.2.106)\n",
            "Requirement already satisfied, skipping upgrade: nvidia-cusolver-cu12==11.4.5.107; platform_system == \"Linux\" and platform_machine == \"x86_64\" in /home/shiridi/.local/lib/python3.8/site-packages (from torch>=1.6.0->sentence-transformers) (11.4.5.107)\n",
            "Requirement already satisfied, skipping upgrade: nvidia-cusparse-cu12==12.1.0.106; platform_system == \"Linux\" and platform_machine == \"x86_64\" in /home/shiridi/.local/lib/python3.8/site-packages (from torch>=1.6.0->sentence-transformers) (12.1.0.106)\n",
            "Requirement already satisfied, skipping upgrade: nvidia-nccl-cu12==2.18.1; platform_system == \"Linux\" and platform_machine == \"x86_64\" in /home/shiridi/.local/lib/python3.8/site-packages (from torch>=1.6.0->sentence-transformers) (2.18.1)\n",
            "Requirement already satisfied, skipping upgrade: nvidia-nvtx-cu12==12.1.105; platform_system == \"Linux\" and platform_machine == \"x86_64\" in /home/shiridi/.local/lib/python3.8/site-packages (from torch>=1.6.0->sentence-transformers) (12.1.105)\n",
            "Requirement already satisfied, skipping upgrade: triton==2.1.0; platform_system == \"Linux\" and platform_machine == \"x86_64\" in /home/shiridi/.local/lib/python3.8/site-packages (from torch>=1.6.0->sentence-transformers) (2.1.0)\n",
            "Requirement already satisfied, skipping upgrade: pillow!=8.3.*,>=5.3.0 in /home/shiridi/.local/lib/python3.8/site-packages (from torchvision->sentence-transformers) (9.5.0)\n",
            "Requirement already satisfied, skipping upgrade: joblib>=1.0.0 in /home/shiridi/.local/lib/python3.8/site-packages (from scikit-learn->sentence-transformers) (1.1.0)\n",
            "Requirement already satisfied, skipping upgrade: threadpoolctl>=2.0.0 in /home/shiridi/.local/lib/python3.8/site-packages (from scikit-learn->sentence-transformers) (3.1.0)\n",
            "Requirement already satisfied, skipping upgrade: click in /home/shiridi/.local/lib/python3.8/site-packages (from nltk->sentence-transformers) (8.1.2)\n",
            "Requirement already satisfied, skipping upgrade: pyparsing!=3.0.5,>=2.0.2 in /home/shiridi/.local/lib/python3.8/site-packages (from packaging>=20.0->transformers<5.0.0,>=4.6.0->sentence-transformers) (3.0.8)\n",
            "Requirement already satisfied, skipping upgrade: charset-normalizer<4,>=2 in /home/shiridi/.local/lib/python3.8/site-packages (from requests->transformers<5.0.0,>=4.6.0->sentence-transformers) (3.3.2)\n",
            "Requirement already satisfied, skipping upgrade: idna<4,>=2.5 in /usr/lib/python3/dist-packages (from requests->transformers<5.0.0,>=4.6.0->sentence-transformers) (2.8)\n",
            "Requirement already satisfied, skipping upgrade: urllib3<1.27,>=1.21.1 in /home/shiridi/.local/lib/python3.8/site-packages (from requests->transformers<5.0.0,>=4.6.0->sentence-transformers) (1.26.18)\n",
            "Requirement already satisfied, skipping upgrade: certifi>=2017.4.17 in /home/shiridi/.local/lib/python3.8/site-packages (from requests->transformers<5.0.0,>=4.6.0->sentence-transformers) (2020.4.5.1)\n",
            "Requirement already satisfied, skipping upgrade: mpmath>=0.19 in /home/shiridi/.local/lib/python3.8/site-packages (from sympy->torch>=1.6.0->sentence-transformers) (1.3.0)\n",
            "Requirement already satisfied, skipping upgrade: MarkupSafe>=2.0 in /home/shiridi/.local/lib/python3.8/site-packages (from jinja2->torch>=1.6.0->sentence-transformers) (2.1.1)\n",
            "Requirement already satisfied, skipping upgrade: nvidia-nvjitlink-cu12 in /home/shiridi/.local/lib/python3.8/site-packages (from nvidia-cusolver-cu12==11.4.5.107; platform_system == \"Linux\" and platform_machine == \"x86_64\"->torch>=1.6.0->sentence-transformers) (12.2.140)\n"
          ]
        }
      ],
      "source": [
        "!pip install -U sentence-transformers\n",
        "from sentence_transformers import SentenceTransformer\n",
        "model = SentenceTransformer('paraphrase-MiniLM-L6-v2')"
      ]
    },
    {
      "cell_type": "code",
      "execution_count": null,
      "metadata": {
        "colab": {
          "base_uri": "https://localhost:8080/"
        },
        "id": "y46wgjFKzSQn",
        "outputId": "32177c12-22db-421a-bac4-3a33bc5c9fb3"
      },
      "outputs": [],
      "source": [
        "# embedding = model.encode(sentence)\n",
        "def cosine_similarity(vector1, vector2):\n",
        "    dot_product = np.dot(vector1, vector2)\n",
        "    norm_vector1 = np.linalg.norm(vector1)\n",
        "    norm_vector2 = np.linalg.norm(vector2)\n",
        "\n",
        "    if norm_vector1 == 0 or norm_vector2 == 0:\n",
        "        return 0  # To handle zero vectors\n",
        "\n",
        "    similarity = dot_product / (norm_vector1 * norm_vector2)\n",
        "    return similarity\n",
        "\n",
        "def prepare_dataset(df):\n",
        "    req=df[[\"question\",\"sentences\",\"CorrectSentence\"]]\n",
        "    vals=req.values\n",
        "    ma=0\n",
        "    for i in range(len(vals)):\n",
        "        se=eval(vals[i][1])\n",
        "        ma=max(len(se),ma)\n",
        "    dataset=np.zeros((10000,ma,2,384))\n",
        "    qns=model.encode(vals[:10000,0])\n",
        "    for i in range(len(dataset)):\n",
        "      se=eval(vals[i][1])\n",
        "      dataset[i,:len(se),1]=model.encode(se)\n",
        "      dataset[i,:,0]=qns[i]\n",
        "      print(i)\n",
        "    return dataset\n",
        "\n",
        "\n",
        "\n",
        "sentences=prepare_dataset(df)\n"
      ]
    },
    {
      "cell_type": "code",
      "execution_count": 33,
      "metadata": {
        "id": "lCHXnlsczX-a"
      },
      "outputs": [],
      "source": [
        "x=sentences.reshape(sentences.shape[0]*sentences.shape[1],sentences.shape[2],sentences.shape[3])\n",
        "labels=df[\"CorrectSentence\"].values[:10000]\n",
        "ylabels=np.zeros(sentences.shape[0]*sentences.shape[1])\n",
        "iter=0\n",
        "for i in range(len(sentences)):\n",
        "  for j in range(len(sentences[i])):\n",
        "    if(labels[i]==j):\n",
        "      ylabels[iter]=1\n",
        "\n",
        "    iter+=1"
      ]
    },
    {
      "cell_type": "code",
      "execution_count": 34,
      "metadata": {
        "colab": {
          "base_uri": "https://localhost:8080/"
        },
        "id": "-XY5qcyy1txN",
        "outputId": "13ed4eea-a875-4161-983d-c6011214f45d"
      },
      "outputs": [
        {
          "data": {
            "text/plain": [
              "(270000, 2, 384)"
            ]
          },
          "execution_count": 34,
          "metadata": {},
          "output_type": "execute_result"
        }
      ],
      "source": [
        "x.shape"
      ]
    },
    {
      "cell_type": "code",
      "execution_count": 35,
      "metadata": {
        "colab": {
          "base_uri": "https://localhost:8080/"
        },
        "id": "EikK0W2Zzd5f",
        "outputId": "f0f2575a-d938-448d-d03e-a2f0895d893f"
      },
      "outputs": [
        {
          "name": "stdout",
          "output_type": "stream",
          "text": [
            "Model: \"model_1\"\n",
            "_________________________________________________________________\n",
            " Layer (type)                Output Shape              Param #   \n",
            "=================================================================\n",
            " input_2 (InputLayer)        [(None, 2, 384)]          0         \n",
            "                                                                 \n",
            " flatten_1 (Flatten)         (None, 768)               0         \n",
            "                                                                 \n",
            " dense_3 (Dense)             (None, 64)                49216     \n",
            "                                                                 \n",
            " dense_4 (Dense)             (None, 64)                4160      \n",
            "                                                                 \n",
            " dense_5 (Dense)             (None, 1)                 65        \n",
            "                                                                 \n",
            "=================================================================\n",
            "Total params: 53441 (208.75 KB)\n",
            "Trainable params: 53441 (208.75 KB)\n",
            "Non-trainable params: 0 (0.00 Byte)\n",
            "_________________________________________________________________\n"
          ]
        }
      ],
      "source": [
        "inp=Input(shape=x[0].shape)\n",
        "flat=Flatten()(inp)\n",
        "l1=Dense(64, activation='relu')(flat)\n",
        "l2=Dense(64, activation='relu')(l1)\n",
        "fin=Dense(1,activation=\"sigmoid\")(l2)\n",
        "model=Model(inputs=inp,outputs=fin)\n",
        "model.compile(loss='binary_crossentropy', optimizer='adam', metrics=['accuracy'])\n",
        "model.summary()"
      ]
    },
    {
      "cell_type": "code",
      "execution_count": 36,
      "metadata": {
        "id": "Ad5uFQD0zhjS"
      },
      "outputs": [],
      "source": [
        "def generate_batch(X = x, y = ylabels, batch_size = 200):\n",
        "  ''' Generate a batch of data '''\n",
        "  while True:\n",
        "    for j in range(0, len(X)-batch_size, batch_size):\n",
        "      yield(X[j:j+batch_size],ylabels[j:j+batch_size])\n",
        "\n"
      ]
    },
    {
      "cell_type": "code",
      "execution_count": 37,
      "metadata": {
        "colab": {
          "base_uri": "https://localhost:8080/"
        },
        "id": "LlDK4DVR-WpQ",
        "outputId": "58d075a6-49c9-4283-9f35-55c462f230b9"
      },
      "outputs": [
        {
          "name": "stdout",
          "output_type": "stream",
          "text": [
            "Epoch 1/20\n"
          ]
        },
        {
          "name": "stderr",
          "output_type": "stream",
          "text": [
            "<ipython-input-37-efd809328c41>:5: UserWarning: `Model.fit_generator` is deprecated and will be removed in a future version. Please use `Model.fit`, which supports generators.\n",
            "  history=model.fit_generator(generator = generate_batch(xtrain, ytrain, batch_size = batch_size),\n"
          ]
        },
        {
          "name": "stdout",
          "output_type": "stream",
          "text": [
            "2430/2430 [==============================] - 14s 5ms/step - loss: 0.0975 - accuracy: 0.9624 - val_loss: 0.1496 - val_accuracy: 0.9615\n",
            "Epoch 2/20\n",
            "2430/2430 [==============================] - 11s 5ms/step - loss: 0.0784 - accuracy: 0.9644 - val_loss: 0.1762 - val_accuracy: 0.9495\n",
            "Epoch 3/20\n",
            "2430/2430 [==============================] - 11s 4ms/step - loss: 0.0689 - accuracy: 0.9681 - val_loss: 0.1987 - val_accuracy: 0.9355\n",
            "Epoch 4/20\n",
            "2430/2430 [==============================] - 11s 4ms/step - loss: 0.0615 - accuracy: 0.9720 - val_loss: 0.2378 - val_accuracy: 0.9339\n",
            "Epoch 5/20\n",
            "2430/2430 [==============================] - 12s 5ms/step - loss: 0.0550 - accuracy: 0.9752 - val_loss: 0.2636 - val_accuracy: 0.9339\n",
            "Epoch 6/20\n",
            "2430/2430 [==============================] - 11s 5ms/step - loss: 0.0505 - accuracy: 0.9781 - val_loss: 0.2786 - val_accuracy: 0.9326\n",
            "Epoch 7/20\n",
            "2430/2430 [==============================] - 10s 4ms/step - loss: 0.0457 - accuracy: 0.9800 - val_loss: 0.3188 - val_accuracy: 0.9389\n",
            "Epoch 8/20\n",
            "2430/2430 [==============================] - 11s 5ms/step - loss: 0.0417 - accuracy: 0.9818 - val_loss: 0.3752 - val_accuracy: 0.9321\n",
            "Epoch 9/20\n",
            "2430/2430 [==============================] - 11s 5ms/step - loss: 0.0391 - accuracy: 0.9832 - val_loss: 0.3941 - val_accuracy: 0.9339\n",
            "Epoch 10/20\n",
            "2430/2430 [==============================] - 10s 4ms/step - loss: 0.0357 - accuracy: 0.9846 - val_loss: 0.4396 - val_accuracy: 0.9397\n",
            "Epoch 11/20\n",
            "2430/2430 [==============================] - 11s 4ms/step - loss: 0.0331 - accuracy: 0.9859 - val_loss: 0.4347 - val_accuracy: 0.9396\n",
            "Epoch 12/20\n",
            "2430/2430 [==============================] - 11s 5ms/step - loss: 0.0320 - accuracy: 0.9867 - val_loss: 0.4634 - val_accuracy: 0.9327\n",
            "Epoch 13/20\n",
            "2430/2430 [==============================] - 11s 5ms/step - loss: 0.0289 - accuracy: 0.9879 - val_loss: 0.5244 - val_accuracy: 0.9343\n",
            "Epoch 14/20\n",
            "2430/2430 [==============================] - 10s 4ms/step - loss: 0.0276 - accuracy: 0.9887 - val_loss: 0.5211 - val_accuracy: 0.9399\n",
            "Epoch 15/20\n",
            "2430/2430 [==============================] - 11s 5ms/step - loss: 0.0251 - accuracy: 0.9898 - val_loss: 0.5428 - val_accuracy: 0.9286\n",
            "Epoch 16/20\n",
            "2430/2430 [==============================] - 11s 5ms/step - loss: 0.0234 - accuracy: 0.9905 - val_loss: 0.6068 - val_accuracy: 0.9359\n",
            "Epoch 17/20\n",
            "2430/2430 [==============================] - 9s 4ms/step - loss: 0.0225 - accuracy: 0.9911 - val_loss: 0.6048 - val_accuracy: 0.9378\n",
            "Epoch 18/20\n",
            "2430/2430 [==============================] - 11s 5ms/step - loss: 0.0216 - accuracy: 0.9911 - val_loss: 0.6226 - val_accuracy: 0.9385\n",
            "Epoch 19/20\n",
            "2430/2430 [==============================] - 11s 5ms/step - loss: 0.0194 - accuracy: 0.9921 - val_loss: 0.6445 - val_accuracy: 0.9391\n",
            "Epoch 20/20\n",
            "2430/2430 [==============================] - 9s 4ms/step - loss: 0.0184 - accuracy: 0.9927 - val_loss: 0.6687 - val_accuracy: 0.9424\n"
          ]
        }
      ],
      "source": [
        "batch_size = 100\n",
        "epochs = 20\n",
        "sep=int(0.9*len(x))\n",
        "xtrain,xtest,ytrain,ytest=x[:sep],x[sep:],ylabels[:sep],ylabels[sep:]\n",
        "history=model.fit_generator(generator = generate_batch(xtrain, ytrain, batch_size = batch_size),\n",
        "                    steps_per_epoch =len(xtrain)//batch_size,\n",
        "                    epochs=epochs,\n",
        "                    validation_data = generate_batch(xtest, ytest, batch_size = batch_size),\n",
        "                    validation_steps = len(ytest)//batch_size)"
      ]
    },
    {
      "cell_type": "code",
      "execution_count": 38,
      "metadata": {
        "colab": {
          "base_uri": "https://localhost:8080/"
        },
        "id": "9W1yhsCNzmnJ",
        "outputId": "2b9c2275-8998-4f76-928c-5583316aab2a"
      },
      "outputs": [
        {
          "name": "stdout",
          "output_type": "stream",
          "text": [
            "844/844 [==============================] - 2s 2ms/step\n",
            "625 1000\n"
          ]
        }
      ],
      "source": [
        "pred=model.predict(xtest)\n",
        "pred=pred.reshape(pred.shape[0]//27,27,1)\n",
        "ydum=ytest.reshape(ytest.shape[0]//27,27)\n",
        "acc=0\n",
        "ypred=[]\n",
        "for i in range(len(pred)):\n",
        "  probs=pred[i]\n",
        "  ind=np.argmax(probs)\n",
        "  ypred.append(ind)\n",
        "\n",
        "  if(np.argmax(ydum[i])==ind):\n",
        "    acc+=1\n",
        "print(acc,len(pred))"
      ]
    },
    {
      "cell_type": "code",
      "execution_count": 39,
      "metadata": {
        "id": "QAHeuMhJClKu"
      },
      "outputs": [],
      "source": [
        "yorig=[]\n",
        "for i in range(len(ydum)):\n",
        "  yorig.append(np.argmax(ydum[i]))"
      ]
    },
    {
      "cell_type": "code",
      "execution_count": 16,
      "metadata": {
        "colab": {
          "base_uri": "https://localhost:8080/"
        },
        "id": "rXVzy19cCw8D",
        "outputId": "96e2c864-e0d4-47fe-da1e-44f4dfc801bb"
      },
      "outputs": [
        {
          "data": {
            "text/plain": [
              "8"
            ]
          },
          "execution_count": 16,
          "metadata": {},
          "output_type": "execute_result"
        }
      ],
      "source": []
    },
    {
      "cell_type": "code",
      "execution_count": 40,
      "metadata": {
        "id": "9oAt_YKvCTfy"
      },
      "outputs": [],
      "source": [
        "from sklearn.metrics import confusion_matrix\n",
        "cnf=confusion_matrix(np.array(yorig), ypred)"
      ]
    },
    {
      "cell_type": "code",
      "execution_count": 41,
      "metadata": {
        "colab": {
          "base_uri": "https://localhost:8080/",
          "height": 428
        },
        "id": "KfTzF_xjC-9Y",
        "outputId": "732006db-73ec-4a8d-9fc7-f9dd301be214"
      },
      "outputs": [
        {
          "data": {
            "image/png": "[encoded data removed]",
            "text/plain": [
              "<Figure size 640x480 with 2 Axes>"
            ]
          },
          "metadata": {},
          "output_type": "display_data"
        }
      ],
      "source": [
        "import seaborn as sn\n",
        "import pandas as pd\n",
        "import matplotlib.pyplot as plt\n",
        "\n",
        "\n",
        "df_cm = pd.DataFrame(cnf, range(len(cnf)), range(len(cnf)))\n",
        "# plt.figure(figsize=(10,7))\n",
        "sn.set(font_scale=0.6) # for label size\n",
        "sn.heatmap(df_cm, annot=True, annot_kws={\"size\": 14},fmt='g') # font size\n",
        "\n",
        "plt.show()"
      ]
    },
    {
      "cell_type": "code",
      "execution_count": 49,
      "metadata": {
        "colab": {
          "base_uri": "https://localhost:8080/"
        },
        "id": "SPb4QGT9C_Cx",
        "outputId": "2ec68f35-a07c-4ca8-94c1-91ac01ed3e6f"
      },
      "outputs": [
        {
          "data": {
            "text/plain": [
              "0.629200799530358"
            ]
          },
          "execution_count": 49,
          "metadata": {},
          "output_type": "execute_result"
        }
      ],
      "source": [
        "from sklearn.metrics import f1_score\n",
        "f1_score(yorig,ypred,average=\"weighted\")"
      ]
    },
    {
      "cell_type": "code",
      "execution_count": 53,
      "metadata": {
        "colab": {
          "base_uri": "https://localhost:8080/"
        },
        "id": "sCWUkgCGJW9V",
        "outputId": "835cdeaa-8697-4bb7-ae2a-f6dc434b6a57"
      },
      "outputs": [
        {
          "data": {
            "text/plain": [
              "0.6371155397500673"
            ]
          },
          "execution_count": 53,
          "metadata": {},
          "output_type": "execute_result"
        }
      ],
      "source": [
        "from sklearn.metrics import precision_score\n",
        "precision_score(yorig,ypred,average=\"weighted\")"
      ]
    },
    {
      "cell_type": "code",
      "execution_count": 56,
      "metadata": {
        "colab": {
          "base_uri": "https://localhost:8080/"
        },
        "id": "QKFssms6Jl-R",
        "outputId": "ca2c73b2-e29c-404b-998c-6ba5605c561e"
      },
      "outputs": [
        {
          "data": {
            "text/plain": [
              "0.625"
            ]
          },
          "execution_count": 56,
          "metadata": {},
          "output_type": "execute_result"
        }
      ],
      "source": [
        "from sklearn.metrics import recall_score\n",
        "recall_score(yorig,ypred,average=\"weighted\")"
      ]
    },
    {
      "cell_type": "code",
      "execution_count": null,
      "metadata": {},
      "outputs": [],
      "source": [
        "model.save_weights(\"neural_ranking_model.h5\")"
      ]
    }
  ],
  "metadata": {
    "accelerator": "GPU",
    "colab": {
      "gpuType": "T4",
      "provenance": []
    },
    "kernelspec": {
      "display_name": "Python 3",
      "name": "python3"
    },
    "language_info": {
      "codemirror_mode": {
        "name": "ipython",
        "version": 3
      },
      "file_extension": ".py",
      "mimetype": "text/x-python",
      "name": "python",
      "nbconvert_exporter": "python",
      "pygments_lexer": "ipython3",
      "version": "3.8.10"
    }
  },
  "nbformat": 4,
  "nbformat_minor": 0
}
